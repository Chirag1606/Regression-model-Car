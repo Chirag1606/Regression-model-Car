{
  "nbformat": 4,
  "nbformat_minor": 0,
  "metadata": {
    "colab": {
      "name": "Car_Model.ipynb",
      "provenance": [],
      "collapsed_sections": []
    },
    "kernelspec": {
      "name": "python3",
      "display_name": "Python 3"
    },
    "language_info": {
      "name": "python"
    }
  },
  "cells": [
    {
      "cell_type": "code",
      "metadata": {
        "id": "hS3z6oD0g7yw"
      },
      "source": [
        "import numpy as np\n",
        "import pandas as pd \n",
        "import seaborn as sb\n",
        "import matplotlib.pyplot as plt\n",
        "%matplotlib inline\n",
        "from sklearn.model_selection import train_test_split\n",
        "from sklearn.linear_model import LinearRegression\n",
        "\n"
      ],
      "execution_count": null,
      "outputs": []
    },
    {
      "cell_type": "code",
      "metadata": {
        "id": "0s7eCeyEia6I"
      },
      "source": [
        "df = pd.read_csv(\"auto-mpg.csv\")"
      ],
      "execution_count": null,
      "outputs": []
    },
    {
      "cell_type": "code",
      "metadata": {
        "colab": {
          "base_uri": "https://localhost:8080/"
        },
        "id": "SV-x-3JDiwfs",
        "outputId": "f4738433-838a-4423-bfea-b2556434b805"
      },
      "source": [
        "df.shape"
      ],
      "execution_count": null,
      "outputs": [
        {
          "output_type": "execute_result",
          "data": {
            "text/plain": [
              "(398, 9)"
            ]
          },
          "metadata": {},
          "execution_count": 13
        }
      ]
    },
    {
      "cell_type": "code",
      "metadata": {
        "id": "tVtHzndIZ4M4"
      },
      "source": [
        "from google.colab import drive\n",
        "drive.mount('/content/drive')"
      ],
      "execution_count": null,
      "outputs": []
    },
    {
      "cell_type": "code",
      "metadata": {
        "id": "-9skCBwei7qw"
      },
      "source": [
        "df.head()"
      ],
      "execution_count": null,
      "outputs": []
    },
    {
      "cell_type": "code",
      "metadata": {
        "id": "pcrDNoHqi_To"
      },
      "source": [
        "df.head(10)"
      ],
      "execution_count": null,
      "outputs": []
    },
    {
      "cell_type": "code",
      "metadata": {
        "id": "ShOux9U0jCeu"
      },
      "source": [
        "df.tail()"
      ],
      "execution_count": null,
      "outputs": []
    },
    {
      "cell_type": "code",
      "metadata": {
        "id": "6Rche9EWjEIm"
      },
      "source": [
        "df.sample()"
      ],
      "execution_count": null,
      "outputs": []
    },
    {
      "cell_type": "code",
      "metadata": {
        "id": "qeLzKcQ3mlpt"
      },
      "source": [
        ""
      ],
      "execution_count": null,
      "outputs": []
    },
    {
      "cell_type": "code",
      "metadata": {
        "id": "iFqzHeYxjFdy"
      },
      "source": [
        "df.sample(10)"
      ],
      "execution_count": null,
      "outputs": []
    },
    {
      "cell_type": "code",
      "metadata": {
        "id": "G2_y3B4FjGvt"
      },
      "source": [
        "df = df.drop('car name', axis = 1)\n",
        "\n"
      ],
      "execution_count": null,
      "outputs": []
    },
    {
      "cell_type": "code",
      "metadata": {
        "id": "8KNBF_mnjgaD"
      },
      "source": [
        "#Categorical Value with actual Value\n",
        "\n",
        "df['origin'].replace({1:'America',2:'europe',3:'Asia'}) \n"
      ],
      "execution_count": null,
      "outputs": []
    },
    {
      "cell_type": "code",
      "metadata": {
        "id": "PvzwqZblm5zY"
      },
      "source": [
        "df = pd.get_dummies(df,columns=['origin'])\n",
        "df.sample(10)"
      ],
      "execution_count": null,
      "outputs": []
    },
    {
      "cell_type": "code",
      "metadata": {
        "id": "JvPd8DP8nK-q"
      },
      "source": [
        "df.describe()"
      ],
      "execution_count": null,
      "outputs": []
    },
    {
      "cell_type": "code",
      "metadata": {
        "id": "wLfWW5Z8nQ7M"
      },
      "source": [
        "df.describe(include= \"all\")"
      ],
      "execution_count": null,
      "outputs": []
    },
    {
      "cell_type": "code",
      "metadata": {
        "id": "noJD71a8n7rg"
      },
      "source": [
        "df.info()"
      ],
      "execution_count": null,
      "outputs": []
    },
    {
      "cell_type": "code",
      "metadata": {
        "id": "nuolmIAOpSgV"
      },
      "source": [
        "df.dtypes"
      ],
      "execution_count": null,
      "outputs": []
    },
    {
      "cell_type": "code",
      "metadata": {
        "id": "WuVh9YZ1qae0"
      },
      "source": [
        "hpisdigit= pd.DataFrame(df.hp.str.isdigit())\n",
        "\n",
        "df[hpisdigit['hp']== False]  #From temp take only those rows where hp false"
      ],
      "execution_count": null,
      "outputs": []
    },
    {
      "cell_type": "code",
      "metadata": {
        "id": "1Azq4bQJsOzS"
      },
      "source": [
        "df = df.replace('?',np.nan)\n",
        "df[hpisdigit['hp']== False]"
      ],
      "execution_count": null,
      "outputs": []
    },
    {
      "cell_type": "code",
      "metadata": {
        "id": "k467DlIXunt1"
      },
      "source": [
        "df.median()"
      ],
      "execution_count": null,
      "outputs": []
    },
    {
      "cell_type": "code",
      "metadata": {
        "id": "HqK8kwqXuxlC"
      },
      "source": [
        "medianFiller = lambda x : x.fillna(x.median())  #Replacing the missing value with median\n",
        "df = df.apply(medianFiller, axis =1)\n",
        "df['hp']= df['hp'].astype('float64')\n",
        "df[hpisdigit['hp']== False]"
      ],
      "execution_count": null,
      "outputs": []
    },
    {
      "cell_type": "code",
      "metadata": {
        "id": "YdM2mh3KvVUf"
      },
      "source": [
        "df.head()"
      ],
      "execution_count": null,
      "outputs": []
    },
    {
      "cell_type": "code",
      "metadata": {
        "id": "bcBQJY94v78R"
      },
      "source": [
        "df.sample(10)"
      ],
      "execution_count": null,
      "outputs": []
    },
    {
      "cell_type": "code",
      "metadata": {
        "id": "swK0-AIov_NH"
      },
      "source": [
        "sb.pairplot(df)"
      ],
      "execution_count": null,
      "outputs": []
    },
    {
      "cell_type": "code",
      "metadata": {
        "id": "OyemAatSwG3t"
      },
      "source": [
        "df_attr = df.iloc[:,0:7]\n",
        "sb.pairplot(df_attr)"
      ],
      "execution_count": null,
      "outputs": []
    },
    {
      "cell_type": "code",
      "metadata": {
        "id": "ae0OTFLTxnFk"
      },
      "source": [
        "#Building Linear regression model\n",
        "\n",
        "#Independent variables\n",
        "x = df.drop(['mpg'],axis=1)\n",
        "#dependent variable \n",
        "y = df[['mpg']]\n"
      ],
      "execution_count": null,
      "outputs": []
    },
    {
      "cell_type": "code",
      "metadata": {
        "id": "QO95besA9aY9"
      },
      "source": [
        "#Splitting x and y into training and testing in a ratio of 70:30\n",
        "x_train, x_test, y_train, y_test = train_test_split(x,y,test_size = 0.70, random_state = 1)\n"
      ],
      "execution_count": null,
      "outputs": []
    },
    {
      "cell_type": "code",
      "metadata": {
        "id": "PnlwLWjr-p2s"
      },
      "source": [
        "#Fit Model \n",
        "reg_model = LinearRegression()\n",
        "reg_model.fit(x_train,y_train)\n"
      ],
      "execution_count": null,
      "outputs": []
    },
    {
      "cell_type": "code",
      "metadata": {
        "id": "Zz0rThhZ_Aej"
      },
      "source": [
        "reg_model.score(x_train,y_train)\n"
      ],
      "execution_count": null,
      "outputs": []
    },
    {
      "cell_type": "code",
      "metadata": {
        "id": "kwvMk7sm_NEI"
      },
      "source": [
        "reg_model.score(x_test,y_test)"
      ],
      "execution_count": null,
      "outputs": []
    },
    {
      "cell_type": "code",
      "metadata": {
        "id": "VPanTCjH_VHt"
      },
      "source": [
        "from sklearn.preprocessing import PolynomialFeatures\n",
        "from sklearn import linear_model\n",
        "poly = PolynomialFeatures(degree = 2, interaction_only= True)\n",
        "x_train2 = poly.fit_transform(x_train)\n",
        "x_test2 = poly.fit_transform(x_test)\n",
        "poly_clf = linear_model.LinearRegression()\n",
        "poly_clf.fit(x_train2, y_train)\n",
        "y_pred = poly_clf.predict(x_test2)\n",
        "#print y pred\n",
        "#in sample (training) R^2 will improve with no of variables\n",
        "print(poly_clf.score(x_train2, y_train))"
      ],
      "execution_count": null,
      "outputs": []
    },
    {
      "cell_type": "code",
      "metadata": {
        "id": "dEGY2OKAAP7W"
      },
      "source": [
        "#out off sample (testing) R^2 is our MOS and does improve\n",
        "print(poly_clf.score(x_test2, y_test))"
      ],
      "execution_count": null,
      "outputs": []
    },
    {
      "cell_type": "code",
      "metadata": {
        "id": "flENNtvbFi4z"
      },
      "source": [
        ""
      ],
      "execution_count": null,
      "outputs": []
    }
  ]
}